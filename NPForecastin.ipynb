{
 "cells": [
  {
   "cell_type": "markdown",
   "metadata": {},
   "source": [
    "## Домашнее здание №3 / New Product Forecasting\n",
    "\n",
    "### Фамилия Имя / Группа\n",
    "\n",
    "----\n",
    "План выполнения домашнего задания:\n",
    "\n",
    "1. Подготовка данных\n",
    "2. Предсказание без категориальных признаков\n",
    "3. Предсказание с категориальными признаками\n",
    "4.  Другие модели и генерация дополнительных признаков\n",
    "5. Отправка результатов в контест на Kaggle"
   ]
  },
  {
   "cell_type": "code",
   "execution_count": 2,
   "metadata": {
    "collapsed": false
   },
   "outputs": [
    {
     "ename": "ImportError",
     "evalue": "No module named xgboost",
     "output_type": "error",
     "traceback": [
      "\u001b[0;31m---------------------------------------------------------------------------\u001b[0m",
      "\u001b[0;31mImportError\u001b[0m                               Traceback (most recent call last)",
      "\u001b[0;32m<ipython-input-2-0927f4e13e79>\u001b[0m in \u001b[0;36m<module>\u001b[0;34m()\u001b[0m\n\u001b[1;32m     14\u001b[0m \u001b[0;32mfrom\u001b[0m \u001b[0msklearn\u001b[0m \u001b[0;32mimport\u001b[0m \u001b[0mpreprocessing\u001b[0m\u001b[0;34m\u001b[0m\u001b[0m\n\u001b[1;32m     15\u001b[0m \u001b[0;32mimport\u001b[0m \u001b[0mmath\u001b[0m\u001b[0;34m\u001b[0m\u001b[0m\n\u001b[0;32m---> 16\u001b[0;31m \u001b[0;32mimport\u001b[0m \u001b[0mxgboost\u001b[0m \u001b[0;32mas\u001b[0m \u001b[0mxgb\u001b[0m\u001b[0;34m\u001b[0m\u001b[0m\n\u001b[0m\u001b[1;32m     17\u001b[0m \u001b[0mget_ipython\u001b[0m\u001b[0;34m(\u001b[0m\u001b[0;34m)\u001b[0m\u001b[0;34m.\u001b[0m\u001b[0mmagic\u001b[0m\u001b[0;34m(\u001b[0m\u001b[0;34mu'matplotlib inline'\u001b[0m\u001b[0;34m)\u001b[0m\u001b[0;34m\u001b[0m\u001b[0m\n",
      "\u001b[0;31mImportError\u001b[0m: No module named xgboost"
     ]
    }
   ],
   "source": [
    "import pandas as pd\n",
    "import numpy as np\n",
    "from random import shuffle\n",
    "from sklearn import tree\n",
    "from copy import deepcopy\n",
    "from sklearn.ensemble import BaggingRegressor\n",
    "import matplotlib.pyplot as plt\n",
    "from sklearn.ensemble import RandomForestRegressor\n",
    "from sklearn.ensemble import ExtraTreesRegressor\n",
    "from sklearn.ensemble import GradientBoostingRegressor\n",
    "from sklearn import cross_validation\n",
    "from sklearn.dummy import DummyRegressor\n",
    "from scipy.optimize import minimize_scalar\n",
    "from sklearn import preprocessing\n",
    "import math\n",
    "import xgboost as xgb\n",
    "%matplotlib inline"
   ]
  },
  {
   "cell_type": "markdown",
   "metadata": {},
   "source": [
    "## Подготовка данных (1 балл)\n",
    " * Изучить признаки\n",
    " * Выделить категориальные признаки, которые можно использовать для обучения\n",
    " * Выделить датасет только с числовыми признаками\n",
    " * Выделить полезные числовые признаки"
   ]
  },
  {
   "cell_type": "code",
   "execution_count": null,
   "metadata": {
    "collapsed": false
   },
   "outputs": [],
   "source": [
    "# data = pd.read_csv('blogData_train.csv', header=None)\n",
    "data = pd.read_csv('./data/train.csv', sep=';', index_col='ID')\n",
    "data.shape"
   ]
  },
  {
   "cell_type": "markdown",
   "metadata": {},
   "source": [
    "### Категориальные признаки\n",
    " * Какие категориальные признаки следует использовать в первую очередь? \n",
    " * Есть ли категориальные признаки, которые в принципе не понятно, как использовать?"
   ]
  },
  {
   "cell_type": "markdown",
   "metadata": {},
   "source": [
    "Наиболее важными кажутся STORE_BRAND_ABC, STORE_CITY, STORE_CLUSTER, STORE_RES_ABC, STORE_RES_SPECTR. Непонятно, как использовать категориальные признаки с большим числом уникальных значений"
   ]
  },
  {
   "cell_type": "code",
   "execution_count": null,
   "metadata": {
    "collapsed": false,
    "scrolled": true
   },
   "outputs": [],
   "source": [
    "# Определяем категориальные признаки\n",
    "# По понятным причинам 'LOCATION_ID', 'MODEL_ID' считаются числовыми признаками - их добавляем руками отдельно\n",
    "Categorical_columns = data.columns[([isinstance(z, str) for z in data.ix[0]])].append([['LOCATION_ID', 'MODEL_ID']])\n",
    "Categorical_columns"
   ]
  },
  {
   "cell_type": "code",
   "execution_count": 177,
   "metadata": {
    "collapsed": false,
    "scrolled": true
   },
   "outputs": [
    {
     "name": "stdout",
     "output_type": "stream",
     "text": [
      "Количество уникальных категориальных значений: [1654]\n",
      "Удаляем признаки с номерами: \n",
      "                 NoUniqueValues\n",
      "MODEL_NAME                  447\n",
      "MODEL_ID                    447\n",
      "LOCATION_ID                 362\n",
      "STORE_OPEN_DTTM             246\n",
      "STORE_CITY                   36\n"
     ]
    }
   ],
   "source": [
    "# Количество уникальных значений в категориальных признаках\n",
    "dist_val = pd.DataFrame({'NoUniqueValues': [data[z].nunique() for z in Categorical_columns]}, index = Categorical_columns)\n",
    "\n",
    "print('Количество уникальных категориальных значений: '+ str(dist_val.sum().values))\n",
    "print('Удаляем признаки с номерами: \\n'+ str(dist_val.ix[dist_val['NoUniqueValues']>34].sort_values(by='NoUniqueValues', ascending=False)))"
   ]
  },
  {
   "cell_type": "code",
   "execution_count": 178,
   "metadata": {
    "collapsed": false
   },
   "outputs": [],
   "source": [
    "bad_cat_columns = dist_val.ix[dist_val['NoUniqueValues']>34].axes[0]"
   ]
  },
  {
   "cell_type": "code",
   "execution_count": 179,
   "metadata": {
    "collapsed": false,
    "scrolled": false
   },
   "outputs": [],
   "source": [
    "data = data.drop(bad_cat_columns, axis=1)"
   ]
  },
  {
   "cell_type": "code",
   "execution_count": 180,
   "metadata": {
    "collapsed": false
   },
   "outputs": [],
   "source": [
    "Categorical_columns_use = Categorical_columns.drop(bad_cat_columns)"
   ]
  },
  {
   "cell_type": "markdown",
   "metadata": {},
   "source": [
    "### Числовые признаки\n",
    "* Какие числовые признаки следует использовать в первую очередь? \n",
    "* Есть ли числовые признаки, которые в принципе не понятно, как использовать?\n",
    "* Как заполнять NaN?"
   ]
  },
  {
   "cell_type": "markdown",
   "metadata": {},
   "source": [
    "Важными кажутся MODEL_COST_AVG, MODEL_MEAN_SALES, STORE_TYPE_X. NaN заполнять, например, средним"
   ]
  },
  {
   "cell_type": "code",
   "execution_count": 182,
   "metadata": {
    "collapsed": false
   },
   "outputs": [
    {
     "data": {
      "text/plain": [
       "Index([u'DEMAND', u'MODEL_COST_AVG', u'MODEL_COUNT_SALES_DAYS', u'MODEL_DIAG',\n",
       "       u'MODEL_HEIGHT', u'MODEL_MEAN_SALES', u'MODEL_WIDTH',\n",
       "       u'STORE_ASSORTMENT', u'STORE_BRAND_SPECTR', u'STORE_DIAG_SPECTR',\n",
       "       u'STORE_RES_SPECTR', u'STORE_TYPE_A', u'STORE_TYPE_B', u'STORE_TYPE_C',\n",
       "       u'STORE_TYPE_SPECTR'],\n",
       "      dtype='object')"
      ]
     },
     "execution_count": 182,
     "metadata": {},
     "output_type": "execute_result"
    }
   ],
   "source": [
    "# Выделяем числовой датасет: В данном случае удаляем все + MODEL_ID и LOCATION_ID\n",
    "num_data = data.drop(Categorical_columns_use, axis = 1)\n",
    "num_data.columns"
   ]
  },
  {
   "cell_type": "code",
   "execution_count": 183,
   "metadata": {
    "collapsed": false,
    "scrolled": true
   },
   "outputs": [
    {
     "name": "stdout",
     "output_type": "stream",
     "text": [
      "Количество NaN:\n"
     ]
    },
    {
     "data": {
      "text/plain": [
       "DEMAND                        0\n",
       "MODEL_COST_AVG                0\n",
       "MODEL_COUNT_SALES_DAYS    18917\n",
       "MODEL_DIAG                  212\n",
       "MODEL_HEIGHT                212\n",
       "MODEL_MEAN_SALES          18917\n",
       "MODEL_WIDTH                 212\n",
       "STORE_ASSORTMENT            235\n",
       "STORE_BRAND_SPECTR          235\n",
       "STORE_DIAG_SPECTR           442\n",
       "STORE_RES_SPECTR            446\n",
       "STORE_TYPE_A                  0\n",
       "STORE_TYPE_B                  0\n",
       "STORE_TYPE_C                  0\n",
       "STORE_TYPE_SPECTR             0\n",
       "dtype: int64"
      ]
     },
     "execution_count": 183,
     "metadata": {},
     "output_type": "execute_result"
    }
   ],
   "source": [
    "# Количество NaN в числовых признаках\n",
    "print('Количество NaN:')\n",
    "nan_val = num_data.isnull().sum().T\n",
    "nan_val\n",
    "# print('Удаляем признаки с номерами: \\n'+ str(nan_val.sort_values(by='NoUniqueValues', ascending=False)))"
   ]
  },
  {
   "cell_type": "markdown",
   "metadata": {},
   "source": [
    "##### Преобразовываем числовые признаки (удаляем/добавляем/заменяем nan)"
   ]
  },
  {
   "cell_type": "code",
   "execution_count": null,
   "metadata": {
    "collapsed": true
   },
   "outputs": [],
   "source": [
    "# Здесь добавьте код по преобразованию числовых признаков\n",
    "\n",
    "# пример\n",
    "num_data[???][num_data[???]<числовой порог]=значение"
   ]
  },
  {
   "cell_type": "code",
   "execution_count": 184,
   "metadata": {
    "collapsed": false
   },
   "outputs": [],
   "source": [
    "# Здесь добавьте код по заполнению NaN\n",
    "#num_data = num_data[список фич].fillna(значение)\n",
    "num_data = num_data.fillna(num_data.mean())"
   ]
  },
  {
   "cell_type": "code",
   "execution_count": null,
   "metadata": {
    "collapsed": true
   },
   "outputs": [],
   "source": [
    "# Здесь добавьте код по удалению числовых признаков\n",
    "num_data.drop([список фич], axis = 1, inplace=True)\n",
    "num_data.columns"
   ]
  },
  {
   "cell_type": "markdown",
   "metadata": {},
   "source": [
    "## Предсказание без категориальных признаков (1 балл)\n",
    "### Вспомогательные функции"
   ]
  },
  {
   "cell_type": "code",
   "execution_count": 3,
   "metadata": {
    "collapsed": true
   },
   "outputs": [],
   "source": [
    "def smape_loss_func(x, y):\n",
    "    SymAPE = [ 2*np.abs(x-y)/(np.abs(x)+np.abs(y))] \n",
    "    return np.mean(SymAPE)\n",
    "\n",
    "def get_numerated_data(df, categorical_columns):\n",
    "    simple_df = deepcopy(df)\n",
    "    for column in categorical_columns:\n",
    "        simple_df[column] = pd.Categorical.from_array(simple_df[column]).labels\n",
    "    \n",
    "    return simple_df\n",
    "\n",
    "def get_binarized_data(df, categorical_columns):\n",
    "    binary_df = deepcopy(df)\n",
    "    for column in categorical_columns:\n",
    "        binary_df = pd.concat([binary_df, pd.get_dummies(binary_df[column], prefix=column, prefix_sep=': ')], axis=1)\n",
    "        del binary_df[column]\n",
    "    \n",
    "    return binary_df\n",
    "\n",
    "def split_to_numpy(df, y_column_name):\n",
    "    #print df\n",
    "    #print y_column_name\n",
    "    data_x = df.drop(y_column_name, axis=1).values.astype(np.float32)\n",
    "    data_y = df[y_column_name].values.astype(np.float32)\n",
    "    column_names = df.drop(y_column_name, axis=1).columns\n",
    "    \n",
    "    return data_x, data_y, column_names\n",
    "\n",
    "def split_train_test(df, test_size=0.5, random_state=42, y_column_name='y'):\n",
    "    X = np.asarray(df.drop(y_column_name, axis=1))\n",
    "    y = np.asarray(df[y_column_name]).ravel()\n",
    "    trainX, testX, trainY, testY = cross_validation.train_test_split(X, y, test_size=test_size, random_state=42)\n",
    "    return trainX, testX, trainY, testY"
   ]
  },
  {
   "cell_type": "markdown",
   "metadata": {},
   "source": [
    "### Необходимые функции"
   ]
  },
  {
   "cell_type": "code",
   "execution_count": 4,
   "metadata": {
    "collapsed": false
   },
   "outputs": [],
   "source": [
    "def show_plot(n_est, res, title=\"\", ylabel=\"acc\"):\n",
    "    fig, ax = plt.subplots()\n",
    "    ax.plot(n_est, [res[x][1] for x in n_est], 'ro')\n",
    "#     ax.set_xlim((np.min(n_est) - 10, np.max(n_est) + 10))\n",
    "#     plt.xlabel(\"n_estimators\")\n",
    "#     plt.ylabel(ylabel)\n",
    "#     plt.title(\"Test result\")\n",
    "#     plt.show()\n",
    "    \n",
    "#     fig, ax = plt.subplots()\n",
    "    ax.plot(n_est, [res[x][0] for x in n_est], 'bo')\n",
    "    ax.set_xlim((np.min(n_est) - 10, np.max(n_est) + 10))\n",
    "    plt.xlabel(\"n_estimators\")\n",
    "    plt.ylabel(\"acc\")\n",
    "    plt.title(title)\n",
    "    plt.show()\n",
    "\n",
    "def get_results_dummy_reg(acc=smape_loss_func, verbose=True, strg ='mean', const=None):\n",
    "    results = dict()\n",
    "    reg = DummyRegressor(strategy=strg, constant=const)\n",
    "    reg.fit(trainX, trainY)\n",
    "    predict = reg.predict(testX)\n",
    "    results[1] = (acc(trainY, reg.predict(trainX)), acc(testY, predict))\n",
    "    if verbose:\n",
    "        print(\"Accuracy: \" + str(results[1][1]))\n",
    "    return results\n",
    "\n",
    "def get_results_baggind_rsm(n_est, max_samples, max_features, acc=smape_loss_func, verbose=True):\n",
    "    results = dict()\n",
    "    for i in n_est:\n",
    "        reg = BaggingRegressor(n_estimators=i,\n",
    "                          max_samples=max_samples, max_features=max_features, random_state=1234, n_jobs=-1, verbose=0)\n",
    "        reg.fit(trainX, trainY)\n",
    "#         results[i] = (mse(reg.predict(trainX), trainY), mse(reg.predict(testX), testY))\n",
    "        predict = reg.predict(testX)\n",
    "        results[i] = (acc(trainY, reg.predict(trainX)), acc(testY, predict))\n",
    "        if verbose:\n",
    "            print(\"Count of estimators: \" + str(i) + \", accuracy: \" + str(results[i][1]))\n",
    "    return results\n",
    "\n",
    "def get_results_rf(n_est, oob=False, verbose=True, acc=smape_loss_func):\n",
    "    results = dict()\n",
    "    for i in n_est:\n",
    "        reg = RandomForestRegressor(n_estimators=i, n_jobs=-1, random_state=1234, verbose=0,\n",
    "                                    oob_score=oob, max_features='sqrt')\n",
    "        reg.fit(trainX, trainY)\n",
    "        predict = reg.predict(testX)\n",
    "        if oob:\n",
    "            results[i] = (reg.oob_score_, acc(predict, testY))\n",
    "        else:\n",
    "            results[i] = (acc(trainY, reg.predict(trainX)), acc(testY,predict))\n",
    "        if verbose:\n",
    "            print(\"Count of estimators: \" + str(i) + \", accuracy: \" + str(results[i][1]))\n",
    "    return results\n",
    "\n",
    "def get_results_erte(n_est, verbose=True,acc=smape_loss_func):\n",
    "    results = dict()\n",
    "    for i in n_est:\n",
    "        reg = ExtraTreesRegressor(n_estimators=i, n_jobs=-1, random_state=12, verbose=0)\n",
    "        reg.fit(trainX, trainY)\n",
    "        predict = reg.predict(testX)\n",
    "        results[i] = (acc(trainY,reg.predict(trainX)), acc(predict, testY))\n",
    "        if verbose:\n",
    "            print(\"Count of estimators: \" + str(i) + \", accuracy: \" + str(results[i][1]))\n",
    "    return results\n",
    "\n",
    "def get_results_gbdt(n_est, verbose=True, init=None, acc=smape_loss_func, min_max_filter=True, max_val=1, min_val=0.001):\n",
    "    results = dict()\n",
    "    for i in n_est:\n",
    "        if init is not None:\n",
    "            reg = GradientBoostingRegressor(n_estimators=i, random_state=1234, verbose=0, init=init)\n",
    "        else:\n",
    "            reg = GradientBoostingRegressor(n_estimators=i, random_state=1234, verbose=0)\n",
    "        reg.fit(trainX, trainY)\n",
    "        predict = reg.predict(testX)\n",
    "        if min_max_filter:\n",
    "            predict = np.minimum(np.maximum(predict, min_val),max_val)\n",
    "        results[i] = (acc(trainY, reg.predict(trainX)), acc(testY, predict))\n",
    "        if verbose:\n",
    "            print(\"Count of estimators: \" + str(i) + \", accuracy: \" + str(results[i][1]))    \n",
    "    return results\n",
    "\n",
    "def get_optimal(results):\n",
    "    results = sorted(results, key=lambda x: x[1])"
   ]
  },
  {
   "cell_type": "markdown",
   "metadata": {},
   "source": [
    "### Делим выборку на обучение и контроль"
   ]
  },
  {
   "cell_type": "code",
   "execution_count": 187,
   "metadata": {
    "collapsed": false
   },
   "outputs": [],
   "source": [
    "trainX, testX, trainY, testY = split_train_test(df = num_data, test_size=0.1,  y_column_name='DEMAND')"
   ]
  },
  {
   "cell_type": "markdown",
   "metadata": {},
   "source": [
    "### DummyRegressor\n",
    "* Самый простой классификатор на числовых признаках используется как база для сравнения"
   ]
  },
  {
   "cell_type": "code",
   "execution_count": 188,
   "metadata": {
    "collapsed": false
   },
   "outputs": [
    {
     "name": "stdout",
     "output_type": "stream",
     "text": [
      "Accuracy: 1.24306344718\n",
      "Wall time: 58 ms\n",
      "Accuracy: 1.81014628129\n",
      "Wall time: 1e+03 µs\n"
     ]
    }
   ],
   "source": [
    "%time results = get_results_dummy_reg()\n",
    "%time results = get_results_dummy_reg(strg='constant', const=0.001)"
   ]
  },
  {
   "cell_type": "markdown",
   "metadata": {},
   "source": [
    "### Bagging and RSM\n",
    "Диапазон для n_est рекомендуется брать небольшим\n",
    "\n",
    "Если трубется изменять дефолтные параметры алгоритма - меняйте код выше"
   ]
  },
  {
   "cell_type": "markdown",
   "metadata": {},
   "source": [
    "** Каким стоит брать размер bootstrap выборки и RSM выборки ** \n",
    "Например: \n",
    "**Bagging:** 0.5 от размера тестовой выборки.\n",
    "\n",
    "**RSM:** 0.5 от размера тестовой выборки."
   ]
  },
  {
   "cell_type": "code",
   "execution_count": 189,
   "metadata": {
    "collapsed": false
   },
   "outputs": [
    {
     "name": "stdout",
     "output_type": "stream",
     "text": [
      "Count of estimators: 10, accuracy: 1.21757052076\n",
      "Count of estimators: 20, accuracy: 1.21876096028\n",
      "Count of estimators: 30, accuracy: 1.21833525178\n",
      "Count of estimators: 40, accuracy: 1.21981837786\n",
      "Count of estimators: 50, accuracy: 1.2209139137\n",
      "Count of estimators: 60, accuracy: 1.22577191963\n",
      "Count of estimators: 70, accuracy: 1.22647313164\n",
      "Count of estimators: 80, accuracy: 1.22691586121\n",
      "Count of estimators: 90, accuracy: 1.22402245546\n",
      "Count of estimators: 100, accuracy: 1.22293614598\n",
      "Count of estimators: 110, accuracy: 1.22227419438\n",
      "Count of estimators: 120, accuracy: 1.22156605596\n",
      "Count of estimators: 130, accuracy: 1.22163503586\n",
      "Count of estimators: 140, accuracy: 1.22302186113\n",
      "Wall time: 1min 59s\n"
     ]
    },
    {
     "data": {
      "image/png": "[encoded data removed]",
      "text/plain": [
       "<matplotlib.figure.Figure at 0x149f2d30>"
      ]
     },
     "metadata": {},
     "output_type": "display_data"
    }
   ],
   "source": [
    "n_est = range(10, 150, 10)\n",
    "%time results = get_results_baggind_rsm(n_est, 0.5, 0.5, verbose=True)\n",
    "show_plot(n_est, results)"
   ]
  },
  {
   "cell_type": "markdown",
   "metadata": {},
   "source": [
    "### Random Forest\n",
    "Диапазон для n_est рекомендуется брать небольшим\n",
    "\n",
    "Если трубется изменять дефолтные параметры алгоритма - меняйте код выше"
   ]
  },
  {
   "cell_type": "code",
   "execution_count": 190,
   "metadata": {
    "collapsed": false
   },
   "outputs": [
    {
     "name": "stdout",
     "output_type": "stream",
     "text": [
      "Count of estimators: 10, accuracy: 1.16751739424\n",
      "Count of estimators: 20, accuracy: 1.19995117818\n",
      "Count of estimators: 30, accuracy: 1.20933973869\n",
      "Count of estimators: 40, accuracy: 1.21302274719\n",
      "Count of estimators: 50, accuracy: 1.2131378178\n",
      "Count of estimators: 60, accuracy: 1.21476988601\n",
      "Count of estimators: 70, accuracy: 1.21456431028\n",
      "Count of estimators: 80, accuracy: 1.21605624606\n",
      "Count of estimators: 90, accuracy: 1.21716994385\n",
      "Count of estimators: 100, accuracy: 1.21612894808\n",
      "Count of estimators: 110, accuracy: 1.21703204479\n",
      "Count of estimators: 120, accuracy: 1.21764472669\n",
      "Count of estimators: 130, accuracy: 1.21818265976\n",
      "Count of estimators: 140, accuracy: 1.21923241933\n",
      "Wall time: 43.7 s\n"
     ]
    },
    {
     "data": {
      "image/png": "[encoded data removed]",
      "text/plain": [
       "<matplotlib.figure.Figure at 0x1764f630>"
      ]
     },
     "metadata": {},
     "output_type": "display_data"
    }
   ],
   "source": [
    "n_est = range(10, 150, 10)\n",
    "%time results = get_results_rf(n_est)\n",
    "show_plot(n_est, results)"
   ]
  },
  {
   "cell_type": "markdown",
   "metadata": {},
   "source": [
    "### Extremely Randomized Trees Ensemble\n",
    "Диапазон для n_est рекомендуется брать небольшим\n",
    "\n",
    "Если трубется изменять дефолтные параметры алгоритма - меняйте код выше"
   ]
  },
  {
   "cell_type": "code",
   "execution_count": 191,
   "metadata": {
    "collapsed": false
   },
   "outputs": [
    {
     "name": "stdout",
     "output_type": "stream",
     "text": [
      "Count of estimators: 10, accuracy: 1.13312337988\n",
      "Count of estimators: 20, accuracy: 1.18839127641\n",
      "Count of estimators: 30, accuracy: 1.20770876077\n",
      "Count of estimators: 40, accuracy: 1.21652063412\n",
      "Count of estimators: 50, accuracy: 1.22206755786\n",
      "Count of estimators: 60, accuracy: 1.22331837238\n",
      "Count of estimators: 70, accuracy: 1.22364573341\n",
      "Count of estimators: 80, accuracy: 1.22477886538\n",
      "Count of estimators: 90, accuracy: 1.22625027117\n",
      "Count of estimators: 100, accuracy: 1.2257802935\n",
      "Count of estimators: 110, accuracy: 1.22610528937\n",
      "Count of estimators: 120, accuracy: 1.22672814643\n",
      "Count of estimators: 130, accuracy: 1.22662682854\n",
      "Count of estimators: 140, accuracy: 1.22674093444\n",
      "Wall time: 1min 9s\n"
     ]
    },
    {
     "data": {
      "image/png": "[encoded data removed]",
      "text/plain": [
       "<matplotlib.figure.Figure at 0x1132f550>"
      ]
     },
     "metadata": {},
     "output_type": "display_data"
    }
   ],
   "source": [
    "n_est = range(10, 150, 10)\n",
    "%time results = get_results_erte(n_est)\n",
    "show_plot(n_est, results)"
   ]
  },
  {
   "cell_type": "markdown",
   "metadata": {},
   "source": [
    "## Gradient Boosted Decision Trees\n",
    "Диапазон для n_est рекомендуется брать небольшим\n",
    "\n",
    "Если трубется изменять дефолтные параметры алгоритма - меняйте код выше"
   ]
  },
  {
   "cell_type": "code",
   "execution_count": 192,
   "metadata": {
    "collapsed": false
   },
   "outputs": [
    {
     "name": "stdout",
     "output_type": "stream",
     "text": [
      "Count of estimators: 10, accuracy: 1.22651418244\n",
      "Count of estimators: 20, accuracy: 1.22200229537\n",
      "Count of estimators: 30, accuracy: 1.22088902896\n",
      "Count of estimators: 40, accuracy: 1.22361675402\n",
      "Count of estimators: 50, accuracy: 1.22283973954\n",
      "Count of estimators: 60, accuracy: 1.22108057118\n",
      "Count of estimators: 70, accuracy: 1.22005304555\n",
      "Count of estimators: 80, accuracy: 1.2191204379\n",
      "Count of estimators: 90, accuracy: 1.2179164763\n",
      "Count of estimators: 100, accuracy: 1.21792287334\n",
      "Count of estimators: 110, accuracy: 1.21733304195\n",
      "Count of estimators: 120, accuracy: 1.21798575453\n",
      "Count of estimators: 130, accuracy: 1.21756830611\n",
      "Count of estimators: 140, accuracy: 1.21816097194\n",
      "Wall time: 36.1 s\n"
     ]
    },
    {
     "data": {
      "image/png": "[encoded data removed]",
      "text/plain": [
       "<matplotlib.figure.Figure at 0x1764ffd0>"
      ]
     },
     "metadata": {},
     "output_type": "display_data"
    }
   ],
   "source": [
    "n_est = range(10, 150, 10)\n",
    "%time results = get_results_gbdt(n_est)\n",
    "show_plot(n_est, results)"
   ]
  },
  {
   "cell_type": "markdown",
   "metadata": {},
   "source": [
    "### Вывод\n",
    "Переобучаются ExtraDT, остальные методы показывают результаты на одном уровне (в пределах погрешности).\n",
    "\n",
    "Для RF и Baggin+RSM оптимальные значения кол-ва близко к 20.\n",
    "\n",
    "Для GBDT оптимальное количество алгоритмов находится в районе 50."
   ]
  },
  {
   "cell_type": "markdown",
   "metadata": {},
   "source": [
    "**Вопрос: Дайте интепретацию полученным результатам в вашем случае.**\n",
    "\n",
    "Bagging и Boosting дают примерно одинаковые результаты: нужно работать как над уменьшением смещения, так и разброса.\n",
    "Видимо, ..."
   ]
  },
  {
   "cell_type": "markdown",
   "metadata": {},
   "source": [
    "## Использование категориальных признаков (1 балл)\n",
    "* Проведите аналогичный экспермент при наличии категориальных признаков"
   ]
  },
  {
   "cell_type": "markdown",
   "metadata": {},
   "source": [
    "### Обучение и Контроль"
   ]
  },
  {
   "cell_type": "code",
   "execution_count": 193,
   "metadata": {
    "collapsed": false,
    "scrolled": false
   },
   "outputs": [
    {
     "name": "stdout",
     "output_type": "stream",
     "text": [
      "(40000, 131)\n"
     ]
    }
   ],
   "source": [
    "# Для обучения используются полезные категориальные признаки\n",
    "bin_data = get_binarized_data(data, Categorical_columns_use)\n",
    "print(bin_data.shape)"
   ]
  },
  {
   "cell_type": "markdown",
   "metadata": {},
   "source": [
    "##### Исключаем лишние произнаки, заменяем NaN"
   ]
  },
  {
   "cell_type": "code",
   "execution_count": 141,
   "metadata": {
    "collapsed": false
   },
   "outputs": [],
   "source": [
    "# Удаляем лишние категоримальные признаки\n",
    "bin_data.drop(..., axis = 1, inplace=True)"
   ]
  },
  {
   "cell_type": "code",
   "execution_count": null,
   "metadata": {
    "collapsed": true
   },
   "outputs": [],
   "source": [
    "# Удаляем лишние числвые признаки признаки\n",
    "bin_data = bin_data.drop([лишние числовые признаки], axis = 1, inplace = True)"
   ]
  },
  {
   "cell_type": "code",
   "execution_count": 196,
   "metadata": {
    "collapsed": false
   },
   "outputs": [
    {
     "name": "stdout",
     "output_type": "stream",
     "text": [
      "\n"
     ]
    }
   ],
   "source": [
    "# Заменяем NaN\n",
    "bin_data.fillna(bin_data.mean(), inplace = True)\n",
    "print"
   ]
  },
  {
   "cell_type": "code",
   "execution_count": 197,
   "metadata": {
    "collapsed": false
   },
   "outputs": [],
   "source": [
    "# Делим выборку на обучение и контроль\n",
    "trainX, testX, trainY, testY = split_train_test(df = bin_data, test_size=0.1,  y_column_name='DEMAND')"
   ]
  },
  {
   "cell_type": "markdown",
   "metadata": {},
   "source": [
    "### Bagging and RSM\n",
    "Диапазон для n_est рекомендуется брать небольшим\n",
    "\n",
    "Если трубется изменять дефолтные параметры алгоритма - меняйте код выше"
   ]
  },
  {
   "cell_type": "code",
   "execution_count": 198,
   "metadata": {
    "collapsed": false
   },
   "outputs": [
    {
     "name": "stdout",
     "output_type": "stream",
     "text": [
      "Count of estimators: 10, accuracy: 1.13819751255\n",
      "Count of estimators: 20, accuracy: 1.17964374409\n",
      "Count of estimators: 30, accuracy: 1.18970820949\n",
      "Count of estimators: 40, accuracy: 1.19759738841\n",
      "Count of estimators: 50, accuracy: 1.20122936999\n",
      "Count of estimators: 60, accuracy: 1.20343441241\n",
      "Count of estimators: 70, accuracy: 1.20550762643\n",
      "Count of estimators: 80, accuracy: 1.20533726314\n",
      "Count of estimators: 90, accuracy: 1.20585851954\n",
      "Count of estimators: 100, accuracy: 1.20604173915\n",
      "Count of estimators: 110, accuracy: 1.20549059966\n",
      "Count of estimators: 120, accuracy: 1.20415545718\n",
      "Count of estimators: 130, accuracy: 1.20456459313\n",
      "Count of estimators: 140, accuracy: 1.20428272751\n",
      "Wall time: 8min 47s\n"
     ]
    },
    {
     "data": {
      "image/png": "[encoded data removed]",
      "text/plain": [
       "<matplotlib.figure.Figure at 0x11b77e48>"
      ]
     },
     "metadata": {},
     "output_type": "display_data"
    }
   ],
   "source": [
    "n_est = range(10, 150, 10)\n",
    "%time results = get_results_baggind_rsm(n_est, 0.9, 0.9, verbose=True)\n",
    "show_plot(n_est, results)"
   ]
  },
  {
   "cell_type": "markdown",
   "metadata": {},
   "source": [
    "### Random Forest\n",
    "Диапазон для n_est рекомендуется брать небольшим\n",
    "\n",
    "Если трубется изменять дефолтные параметры алгоритма - меняйте код выше"
   ]
  },
  {
   "cell_type": "code",
   "execution_count": 199,
   "metadata": {
    "collapsed": false
   },
   "outputs": [
    {
     "name": "stdout",
     "output_type": "stream",
     "text": [
      "Count of estimators: 10, accuracy: 1.1771776661\n",
      "Count of estimators: 20, accuracy: 1.19230988727\n",
      "Count of estimators: 30, accuracy: 1.1956016774\n",
      "Count of estimators: 40, accuracy: 1.19691405417\n",
      "Count of estimators: 50, accuracy: 1.19921469784\n",
      "Count of estimators: 60, accuracy: 1.19952344925\n",
      "Count of estimators: 70, accuracy: 1.20049376673\n",
      "Count of estimators: 80, accuracy: 1.20034838047\n",
      "Count of estimators: 90, accuracy: 1.20262013097\n",
      "Count of estimators: 100, accuracy: 1.20235039768\n",
      "Count of estimators: 110, accuracy: 1.20216845039\n",
      "Count of estimators: 120, accuracy: 1.20101840503\n",
      "Count of estimators: 130, accuracy: 1.2018602448\n",
      "Count of estimators: 140, accuracy: 1.2012164304\n",
      "Wall time: 1min 4s\n"
     ]
    },
    {
     "data": {
      "image/png": "[encoded data removed]",
      "text/plain": [
       "<matplotlib.figure.Figure at 0x11d03da0>"
      ]
     },
     "metadata": {},
     "output_type": "display_data"
    }
   ],
   "source": [
    "n_est = range(10, 150, 10)\n",
    "%time results = get_results_rf(n_est)\n",
    "show_plot(n_est, results)"
   ]
  },
  {
   "cell_type": "markdown",
   "metadata": {},
   "source": [
    "### Extremely Randomized Trees Ensemble\n",
    "Диапазон для n_est рекомендуется брать небольшим\n",
    "\n",
    "Если трубется изменять дефолтные параметры алгоритма - меняйте код выше"
   ]
  },
  {
   "cell_type": "code",
   "execution_count": 200,
   "metadata": {
    "collapsed": false
   },
   "outputs": [
    {
     "name": "stdout",
     "output_type": "stream",
     "text": [
      "Count of estimators: 10, accuracy: 1.07624214441\n",
      "Count of estimators: 20, accuracy: 1.12933242683\n",
      "Count of estimators: 30, accuracy: 1.14624048592\n",
      "Count of estimators: 40, accuracy: 1.16237392198\n",
      "Count of estimators: 50, accuracy: 1.16966095619\n",
      "Count of estimators: 60, accuracy: 1.17402560725\n",
      "Count of estimators: 70, accuracy: 1.17627972975\n",
      "Count of estimators: 80, accuracy: 1.1772184831\n",
      "Count of estimators: 90, accuracy: 1.17835857856\n",
      "Count of estimators: 100, accuracy: 1.17907261785\n",
      "Count of estimators: 110, accuracy: 1.18159477341\n",
      "Count of estimators: 120, accuracy: 1.18159585597\n",
      "Count of estimators: 130, accuracy: 1.18352591886\n",
      "Count of estimators: 140, accuracy: 1.18398787093\n",
      "Wall time: 9min 39s\n"
     ]
    },
    {
     "data": {
      "image/png": "[encoded data removed]",
      "text/plain": [
       "<matplotlib.figure.Figure at 0x13a44630>"
      ]
     },
     "metadata": {},
     "output_type": "display_data"
    }
   ],
   "source": [
    "n_est = range(10, 150, 10)\n",
    "%time results = get_results_erte(n_est)\n",
    "show_plot(n_est, results)"
   ]
  },
  {
   "cell_type": "markdown",
   "metadata": {},
   "source": [
    "### Gradient Boosted Decision Trees\n",
    "Диапазон для n_est рекомендуется брать небольшим\n",
    "\n",
    "Если трубется изменять дефолтные параметры алгоритма - меняйте код выше"
   ]
  },
  {
   "cell_type": "code",
   "execution_count": 201,
   "metadata": {
    "collapsed": false
   },
   "outputs": [
    {
     "name": "stdout",
     "output_type": "stream",
     "text": [
      "Count of estimators: 10, accuracy: 1.22187940831\n",
      "Count of estimators: 20, accuracy: 1.21852827663\n",
      "Count of estimators: 30, accuracy: 1.21459900844\n",
      "Count of estimators: 40, accuracy: 1.21775273345\n",
      "Count of estimators: 50, accuracy: 1.21688654485\n",
      "Count of estimators: 60, accuracy: 1.21712305354\n",
      "Count of estimators: 70, accuracy: 1.21685712082\n",
      "Count of estimators: 80, accuracy: 1.21548401458\n",
      "Count of estimators: 90, accuracy: 1.2158950184\n",
      "Count of estimators: 100, accuracy: 1.21601854863\n",
      "Count of estimators: 110, accuracy: 1.21492691858\n",
      "Count of estimators: 120, accuracy: 1.21436169632\n",
      "Count of estimators: 130, accuracy: 1.21394356073\n",
      "Count of estimators: 140, accuracy: 1.2159989781\n",
      "Wall time: 4min 25s\n"
     ]
    },
    {
     "data": {
      "image/png": "[encoded data removed]",
      "text/plain": [
       "<matplotlib.figure.Figure at 0x159dbba8>"
      ]
     },
     "metadata": {},
     "output_type": "display_data"
    }
   ],
   "source": [
    "n_est = range(10, 150, 10)\n",
    "%time results = get_results_gbdt(n_est)\n",
    "show_plot(n_est, results)"
   ]
  },
  {
   "cell_type": "markdown",
   "metadata": {},
   "source": [
    "### Вывод"
   ]
  },
  {
   "cell_type": "markdown",
   "metadata": {},
   "source": [
    "**Вопрос: Дайте интепретацию полученным результатам в вашем случае.**"
   ]
  },
  {
   "cell_type": "markdown",
   "metadata": {},
   "source": [
    "Использование категориальных признаков не сильно изменило результаты"
   ]
  },
  {
   "cell_type": "markdown",
   "metadata": {},
   "source": [
    "## Другие модели и генерация дополнительных признаков (2 балла)"
   ]
  },
  {
   "cell_type": "markdown",
   "metadata": {},
   "source": [
    "* На основании сделанных выводов, предложите другой вариант алгоритма ML, который должен показать лучший результат\n",
    "* Направляния:\n",
    "    -- использовать принципиально другое семейство алгоритмов (NN, GB+kNN, LinearRegression, композиция Baggin и GBDT)\n",
    "    -- исключить бесполезные фичи из обучающей выборки (полезность фич проанализировать с помощью RF);\n",
    "    -- исключить фичи, в которых есть NaN; сделать восстановление NaN более интеллектуально;\n",
    "    -- преобразовать катеориальные признаки так, чтобы получились числовые."
   ]
  },
  {
   "cell_type": "markdown",
   "metadata": {},
   "source": [
    "### Вывод"
   ]
  },
  {
   "cell_type": "code",
   "execution_count": 151,
   "metadata": {
    "collapsed": true
   },
   "outputs": [],
   "source": [
    "def apply_f_to_col_inline(df, col, f):\n",
    "    df[col] = df[col].apply(f)"
   ]
  },
  {
   "cell_type": "code",
   "execution_count": 152,
   "metadata": {
    "collapsed": false
   },
   "outputs": [],
   "source": [
    "def datetime_to_log_age(datetimestr):\n",
    "    x = 16-int(datetimestr[5:7])\n",
    "    x = (x+100) if x < 0 else x  # 20 or 21 century\n",
    "    return np.log(x+1)\n",
    "\n",
    "def abc_to_210(abc):\n",
    "    if abc == 'A':\n",
    "        return 2\n",
    "    if abc == 'B':\n",
    "        return 1\n",
    "    return 0\n",
    "\n",
    "def model_type_to_bool(mtype):\n",
    "    if mtype == 'не смартфон':\n",
    "        return 0\n",
    "    return 1\n",
    "\n",
    "def get_mean_demand_for_value(df, column, value):\n",
    "    interested_in = df[['DEMAND', column]]\n",
    "    interested_in = interested_in.loc[df[column] == value]\n",
    "    mean = interested_in.mean()[0]\n",
    "    return 0 if np.isnan(mean) else mean\n",
    "\n",
    "def process_bad_categorical_columns(df, columns):\n",
    "    for column in columns:\n",
    "        values = set(df[column].values)\n",
    "        apply_f_to_col_inline(df, column,lambda x :\n",
    "                              0 if x not in mean_demands[column].keys() else mean_demands[column][x])"
   ]
  },
  {
   "cell_type": "code",
   "execution_count": 153,
   "metadata": {
    "collapsed": false
   },
   "outputs": [],
   "source": [
    "def collect_mean_demands():\n",
    "    data = pd.read_csv('./data/train.csv', sep=';', index_col='ID')\n",
    "    Redundant_columns = ['MODEL_NAME', 'MODEL_COUNT_SALES_DAYS', 'MODEL_DIAG_TYPE', 'MODEL_HEIGHT', 'MODEL_WIDTH']\n",
    "    data.drop(Redundant_columns, inplace=True, axis=1)\n",
    "    ABC_cols = [x for x in data.columns if x.endswith('ABC')]\n",
    "    for col in ABC_cols:\n",
    "        apply_f_to_col_inline(data, col, abc_to_210)\n",
    "    apply_f_to_col_inline(data, 'STORE_OPEN_DTTM', datetime_to_log_age)\n",
    "    apply_f_to_col_inline(data, 'MODEL_TYPE', model_type_to_bool)\n",
    "    Categorical_columns = data.columns[([isinstance(z, str) for z in data.ix[0]])].append([['LOCATION_ID', 'MODEL_ID']])\n",
    "    Numerical_columns = data.columns[([z not in Categorical_columns for z in data.columns])]\n",
    "    dist_val = pd.DataFrame({'NoUniqueValues': [data[z].nunique() for z in Categorical_columns]}, index = Categorical_columns)\n",
    "    threshold = 7\n",
    "    bad_cat_columns = dist_val.ix[dist_val['NoUniqueValues']>threshold].axes[0]\n",
    "    mean_demands = dict()\n",
    "    for column in bad_cat_columns:\n",
    "        values = set(data[column].values)\n",
    "        mean_demands[column] = dict()\n",
    "        for value in values:\n",
    "            mean_demands[column][value] = get_mean_demand_for_value(data, column, value)\n",
    "    return mean_demands"
   ]
  },
  {
   "cell_type": "code",
   "execution_count": 154,
   "metadata": {
    "collapsed": false
   },
   "outputs": [],
   "source": [
    "mean_demands = collect_mean_demands()"
   ]
  },
  {
   "cell_type": "code",
   "execution_count": 194,
   "metadata": {
    "collapsed": false
   },
   "outputs": [],
   "source": [
    "def prepare_data(data, scalers=None):\n",
    "    Redundant_columns = ['MODEL_NAME', 'MODEL_COUNT_SALES_DAYS', 'MODEL_DIAG_TYPE', 'MODEL_HEIGHT', 'MODEL_WIDTH']\n",
    "    data.drop(Redundant_columns, inplace=True, axis=1)\n",
    "    \n",
    "    ABC_cols = [x for x in data.columns if x.endswith('ABC')]\n",
    "    for col in ABC_cols:\n",
    "        apply_f_to_col_inline(data, col, abc_to_210)\n",
    "    \n",
    "    apply_f_to_col_inline(data, 'STORE_OPEN_DTTM', datetime_to_log_age)\n",
    "    apply_f_to_col_inline(data, 'MODEL_TYPE', model_type_to_bool)\n",
    "    \n",
    "    Categorical_columns = data.columns[([isinstance(z, str) for z in data.ix[0]])].append([['LOCATION_ID', 'MODEL_ID']])\n",
    "    Numerical_columns = data.columns[([z not in Categorical_columns for z in data.columns])]            \n",
    "    \n",
    "    dist_val = pd.DataFrame({'NoUniqueValues': [data[z].nunique() for z in Categorical_columns]},\n",
    "                            index = Categorical_columns)\n",
    "    threshold = 7\n",
    "#     print('Заменяем на mean признаки: \\n'+ \\\n",
    "#           str(dist_val.ix[dist_val['NoUniqueValues']>threshold].sort_values(by='NoUniqueValues', ascending=False)))\n",
    "    bad_cat_columns = dist_val.ix[dist_val['NoUniqueValues']>threshold].axes[0]\n",
    "    #data.drop(bad_cat_columns, axis=1, inplace=True)\n",
    "    process_bad_categorical_columns(data, bad_cat_columns)\n",
    "    \n",
    "    Categorical_columns = data.columns[([isinstance(z, str) for z in data.ix[0]])]\n",
    "    data = get_binarized_data(data, Categorical_columns)\n",
    "    \n",
    "    # with mean sales and without\n",
    "    datasets = [data.loc[~np.isnan(data['MODEL_MEAN_SALES'])], #[0] extended\n",
    "                data.loc[np.isnan(data['MODEL_MEAN_SALES'])].drop(['MODEL_MEAN_SALES'], axis=1)]\n",
    "    del data\n",
    "    \n",
    "    for dataset in datasets:\n",
    "        dataset.fillna(dataset.mean(), inplace=True)\n",
    "    \n",
    "    bool_train = (scalers==None)\n",
    "    if bool_train:\n",
    "        scalers = [preprocessing.StandardScaler() for i in range(2)]\n",
    "        for dataset, scaler in zip(datasets, scalers):\n",
    "            X_cols = [col for col in dataset.columns if col != 'DEMAND']\n",
    "            dataset[X_cols] = scaler.fit_transform(dataset[X_cols])\n",
    "        return datasets, scalers\n",
    "    else:    \n",
    "        for dataset, scaler in zip(datasets, scalers):\n",
    "            dataset[:] = scaler.transform(dataset[:])\n",
    "        return datasets\n",
    "        "
   ]
  },
  {
   "cell_type": "code",
   "execution_count": 195,
   "metadata": {
    "collapsed": false,
    "scrolled": true
   },
   "outputs": [],
   "source": [
    "datasets, scalers = prepare_data(pd.read_csv('./data/train.csv', sep=';', index_col='ID'))"
   ]
  },
  {
   "cell_type": "code",
   "execution_count": 196,
   "metadata": {
    "collapsed": false
   },
   "outputs": [],
   "source": [
    "trainX, testX, trainY, testY = split_train_test(df=datasets[0], test_size=0.2, y_column_name='DEMAND')"
   ]
  },
  {
   "cell_type": "code",
   "execution_count": 197,
   "metadata": {
    "collapsed": false,
    "scrolled": true
   },
   "outputs": [
    {
     "name": "stdout",
     "output_type": "stream",
     "text": [
      "Count of estimators: 1, accuracy: 0.833997448714\n",
      "Count of estimators: 3, accuracy: 0.920011514666\n",
      "Count of estimators: 5, accuracy: 0.984501483823\n",
      "Count of estimators: 7, accuracy: 1.03561777399\n",
      "Count of estimators: 9, accuracy: 1.05581568522\n",
      "Count of estimators: 11, accuracy: 1.06859356393\n",
      "Count of estimators: 13, accuracy: 1.08161313933\n",
      "CPU times: user 9.8 s, sys: 112 ms, total: 9.91 s\n",
      "Wall time: 5.09 s\n"
     ]
    },
    {
     "data": {
      "image/png": "[encoded data removed]",
      "text/plain": [
       "<matplotlib.figure.Figure at 0x7f2e3e734b10>"
      ]
     },
     "metadata": {},
     "output_type": "display_data"
    }
   ],
   "source": [
    "n_est = range(1, 15, 2)\n",
    "%time results = get_results_erte(n_est)\n",
    "show_plot(n_est, results)"
   ]
  },
  {
   "cell_type": "code",
   "execution_count": 198,
   "metadata": {
    "collapsed": false
   },
   "outputs": [
    {
     "name": "stdout",
     "output_type": "stream",
     "text": [
      "Count of estimators: 1, accuracy: 0.964606126125\n",
      "Count of estimators: 2, accuracy: 0.997669348108\n",
      "Count of estimators: 3, accuracy: 1.04294072579\n",
      "Count of estimators: 4, accuracy: 1.09402801566\n",
      "Count of estimators: 5, accuracy: 1.12340913573\n",
      "Count of estimators: 6, accuracy: 1.14752410795\n",
      "Count of estimators: 7, accuracy: 1.1600321279\n",
      "Count of estimators: 8, accuracy: 1.16752907503\n",
      "Count of estimators: 9, accuracy: 1.17217179207\n",
      "CPU times: user 3.37 s, sys: 100 ms, total: 3.47 s\n",
      "Wall time: 3.94 s\n"
     ]
    },
    {
     "data": {
      "image/png": "[encoded data removed]",
      "text/plain": [
       "<matplotlib.figure.Figure at 0x7f2e3e61ac10>"
      ]
     },
     "metadata": {},
     "output_type": "display_data"
    }
   ],
   "source": [
    "n_est = range(1, 10, 1)\n",
    "%time results = get_results_rf(n_est)\n",
    "show_plot(n_est, results)"
   ]
  },
  {
   "cell_type": "code",
   "execution_count": 199,
   "metadata": {
    "collapsed": true
   },
   "outputs": [],
   "source": [
    "def get_results(reg, acc=smape_loss_func, min_max_filter=True, max_val=1, min_val=0.0001):\n",
    "    reg.fit(trainX, trainY)\n",
    "    predict = reg.predict(testX)\n",
    "    if min_max_filter:\n",
    "        predict = np.minimum(np.maximum(predict, min_val),max_val)\n",
    "    results = (acc(trainY, reg.predict(trainX)), acc(testY, predict))\n",
    "    print(\"Loss: \" + str(results[1]))    \n",
    "    return results"
   ]
  },
  {
   "cell_type": "code",
   "execution_count": 200,
   "metadata": {
    "collapsed": false,
    "scrolled": true
   },
   "outputs": [
    {
     "name": "stdout",
     "output_type": "stream",
     "text": [
      "Loss: 1.08833256944\n"
     ]
    },
    {
     "data": {
      "text/plain": [
       "(0.95530641141838812, 1.0883325694383548)"
      ]
     },
     "execution_count": 200,
     "metadata": {},
     "output_type": "execute_result"
    }
   ],
   "source": [
    "regressor = xgb.XGBRegressor(max_depth=13, n_estimators=100, learning_rate=0.1, objective=\"reg:linear\",gamma=0,\n",
    "                                min_child_weight=1, max_delta_step=0, subsample=1, colsample_bytree=1,\n",
    "                                colsample_bylevel=1, reg_alpha=0, reg_lambda=1, scale_pos_weight=1,\n",
    "                                base_score=0.5)\n",
    "get_results(regressor, min_max_filter=True)"
   ]
  },
  {
   "cell_type": "code",
   "execution_count": 201,
   "metadata": {
    "collapsed": false
   },
   "outputs": [],
   "source": [
    "class Wrapper:\n",
    "    def __init__(self, regs):\n",
    "        self.regressors_ = regs\n",
    "        \n",
    "    def fit(self, datasets):\n",
    "        trainY_ext = datasets[0]['DEMAND']\n",
    "        trainX_ext = datasets[0].drop(['DEMAND'], axis=1)\n",
    "        trainY = datasets[1]['DEMAND']\n",
    "        trainX = datasets[1].drop(['DEMAND'], axis=1)\n",
    "        self.regressors_[0].fit(trainX_ext, trainY_ext)\n",
    "        self.regressors_[1].fit(trainX, trainY)\n",
    "        \n",
    "    def predict(self, datasets):\n",
    "        pred_ext = pd.DataFrame(self.regressors_[0].predict(datasets[0]),\n",
    "                                index = datasets[0].index, columns=pd.Index(['DEMAND']))\n",
    "        pred = pd.DataFrame(self.regressors_[1].predict(datasets[1]),\n",
    "                            index = datasets[1].index, columns=pd.Index(['DEMAND']))\n",
    "        max_val=1\n",
    "        min_val=0.0001\n",
    "        pred_ext = np.minimum(np.maximum(pred_ext, min_val),max_val)\n",
    "        pred = np.minimum(np.maximum(pred, min_val),max_val)\n",
    "        return pred_ext, pred"
   ]
  },
  {
   "cell_type": "code",
   "execution_count": 202,
   "metadata": {
    "collapsed": false
   },
   "outputs": [],
   "source": [
    "wrp = Wrapper([xgb.XGBRegressor(max_depth=13, n_estimators=100, learning_rate=0.1, objective=\"reg:linear\",gamma=0,\n",
    "                                min_child_weight=1, max_delta_step=0, subsample=1, colsample_bytree=1,\n",
    "                                colsample_bylevel=1, reg_alpha=0, reg_lambda=1, scale_pos_weight=1,\n",
    "                                base_score=0.5) for i in range(2)])"
   ]
  },
  {
   "cell_type": "code",
   "execution_count": 203,
   "metadata": {
    "collapsed": true
   },
   "outputs": [],
   "source": [
    "wrp = Wrapper([ExtraTreesRegressor(n_estimators=1, n_jobs=-1, random_state=12, verbose=0) for i in range(2)])"
   ]
  },
  {
   "cell_type": "code",
   "execution_count": 204,
   "metadata": {
    "collapsed": false
   },
   "outputs": [],
   "source": [
    "wrp.fit(datasets)"
   ]
  },
  {
   "cell_type": "markdown",
   "metadata": {},
   "source": [
    "## Отправка результатов в контест на Kaggle (оценивается по результатам в Leaderboard)"
   ]
  },
  {
   "cell_type": "code",
   "execution_count": 205,
   "metadata": {
    "collapsed": false,
    "scrolled": true
   },
   "outputs": [],
   "source": [
    "test_datasets = prepare_data(pd.read_csv('./data/test.csv', sep=';',decimal= '.', index_col='ID'), scalers)"
   ]
  },
  {
   "cell_type": "code",
   "execution_count": 206,
   "metadata": {
    "collapsed": false
   },
   "outputs": [],
   "source": [
    "pred_ext, pred = wrp.predict(test_datasets)"
   ]
  },
  {
   "cell_type": "code",
   "execution_count": 207,
   "metadata": {
    "collapsed": false
   },
   "outputs": [],
   "source": [
    "result = pd.concat([pred_ext, pred]).sort_index()"
   ]
  },
  {
   "cell_type": "code",
   "execution_count": 208,
   "metadata": {
    "collapsed": false
   },
   "outputs": [],
   "source": [
    "result.to_csv('./data/submission.csv', sep = ',', index = True)"
   ]
  },
  {
   "cell_type": "code",
   "execution_count": 209,
   "metadata": {
    "collapsed": false
   },
   "outputs": [
    {
     "name": "stdout",
     "output_type": "stream",
     "text": [
      "         DEMAND\n",
      "ID             \n",
      "0      0.000100\n",
      "1      0.040822\n",
      "2      0.032790\n",
      "3      0.064516\n",
      "4      0.000100\n",
      "5      0.000100\n",
      "6      0.098387\n",
      "7      0.000100\n",
      "8      0.101724\n",
      "9      0.200334\n",
      "10     0.000100\n",
      "11     0.473404\n",
      "12     0.054067\n",
      "13     0.037740\n",
      "14     0.032258\n",
      "15     0.074108\n",
      "16     0.000100\n",
      "17     0.000100\n",
      "18     0.000100\n",
      "19     0.000100\n",
      "20     0.000100\n",
      "21     0.000100\n",
      "22     0.000100\n",
      "23     0.762689\n",
      "24     0.064516\n",
      "25     0.000100\n",
      "26     0.037740\n",
      "27     0.081655\n",
      "28     0.000100\n",
      "29     0.000100\n",
      "...         ...\n",
      "11266  0.000100\n",
      "11267  0.000100\n",
      "11268  0.232768\n",
      "11269  0.161290\n",
      "11270  0.000100\n",
      "11271  0.000100\n",
      "11272  0.032258\n",
      "11273  0.000100\n",
      "11274  0.040822\n",
      "11275  0.000100\n",
      "11276  0.000100\n",
      "11277  0.032258\n",
      "11278  0.000100\n",
      "11279  0.000100\n",
      "11280  0.188791\n",
      "11281  0.287682\n",
      "11282  0.095310\n",
      "11283  0.064516\n",
      "11284  0.000100\n",
      "11285  0.096774\n",
      "11286  0.129032\n",
      "11287  0.080043\n",
      "11288  0.000100\n",
      "11289  0.121655\n",
      "11290  0.064516\n",
      "11291  0.032258\n",
      "11292  0.135645\n",
      "11293  0.000100\n",
      "11294  0.000100\n",
      "11295  0.130558\n",
      "\n",
      "[11296 rows x 1 columns]\n"
     ]
    }
   ],
   "source": [
    "print result"
   ]
  },
  {
   "cell_type": "code",
   "execution_count": 265,
   "metadata": {
    "collapsed": true
   },
   "outputs": [],
   "source": [
    "# Предобработка тестовой выборки (добавляем\\удаляем признаки, предобработка NaN и пр.)\n",
    "test_data = get_binarized_data(test, Categorical_columns[категориальные признаки])"
   ]
  },
  {
   "cell_type": "code",
   "execution_count": 266,
   "metadata": {
    "collapsed": false
   },
   "outputs": [],
   "source": [
    "# Все отсутствующие в тестовой выборке столбцы полагаем 0\n",
    "add_columns = bin_data.columns[1:].difference(test_data.columns)\n",
    "test_data = pd.merge(test_data, bin_data.ix[test_data.index][add_columns], how='inner', left_index=True, right_index=True)\n",
    "test_data[add_columns]=0\n",
    "\n",
    "# Оставляем только столбцы обучающей выборки (целевая переменная в обучающей выборке отсутствует)\n",
    "test_data = test_data[bin_data.columns[1:]]\n",
    "\n",
    "test_data = test_data.fillna(-10, inplace=True)"
   ]
  },
  {
   "cell_type": "code",
   "execution_count": null,
   "metadata": {
    "collapsed": true
   },
   "outputs": [],
   "source": [
    "# Обучающая выборка\n",
    "trainX, _, trainY, _ = split_train_test(df = bin_data, test_size=0,  y_column_name='DEMAND')"
   ]
  },
  {
   "cell_type": "code",
   "execution_count": 294,
   "metadata": {
    "collapsed": false
   },
   "outputs": [],
   "source": [
    "# Обучаем финальный алгоритм\n",
    "final_regressor = финальный алгоритм\n",
    "final_regressor.fit(trainX, trainY)"
   ]
  },
  {
   "cell_type": "code",
   "execution_count": 271,
   "metadata": {
    "collapsed": false
   },
   "outputs": [],
   "source": [
    "# Предсказание интенсивности\n",
    "test_predict = final_regressor.predict(np.asarray(test_data))"
   ]
  },
  {
   "cell_type": "code",
   "execution_count": 273,
   "metadata": {
    "collapsed": false
   },
   "outputs": [],
   "source": [
    "# Сохраняем в csv-файл\n",
    "test['DEMAND'] = test_predict\n",
    "test[['DEMAND']].to_csv('./data/submission_gbdt.csv', sep = ',', index = True)"
   ]
  }
 ],
 "metadata": {
  "anaconda-cloud": {},
  "kernelspec": {
   "display_name": "Python 2",
   "language": "python",
   "name": "python2"
  },
  "language_info": {
   "codemirror_mode": {
    "name": "ipython",
    "version": 2
   },
   "file_extension": ".py",
   "mimetype": "text/x-python",
   "name": "python",
   "nbconvert_exporter": "python",
   "pygments_lexer": "ipython2",
   "version": "2.7.12"
  }
 },
 "nbformat": 4,
 "nbformat_minor": 0
}
